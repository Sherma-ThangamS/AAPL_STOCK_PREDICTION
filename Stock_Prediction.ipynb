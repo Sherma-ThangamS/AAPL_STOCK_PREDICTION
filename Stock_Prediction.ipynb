{
 "cells": [
  {
   "cell_type": "code",
   "execution_count": 52,
   "metadata": {},
   "outputs": [],
   "source": [
    "import pandas as pd\n",
    "import numpy as np\n"
   ]
  },
  {
   "cell_type": "code",
   "execution_count": 53,
   "metadata": {},
   "outputs": [
    {
     "data": {
      "text/html": [
       "<div>\n",
       "<style scoped>\n",
       "    .dataframe tbody tr th:only-of-type {\n",
       "        vertical-align: middle;\n",
       "    }\n",
       "\n",
       "    .dataframe tbody tr th {\n",
       "        vertical-align: top;\n",
       "    }\n",
       "\n",
       "    .dataframe thead th {\n",
       "        text-align: right;\n",
       "    }\n",
       "</style>\n",
       "<table border=\"1\" class=\"dataframe\">\n",
       "  <thead>\n",
       "    <tr style=\"text-align: right;\">\n",
       "      <th></th>\n",
       "      <th>Date</th>\n",
       "      <th>Open</th>\n",
       "      <th>High</th>\n",
       "      <th>Low</th>\n",
       "      <th>Volume</th>\n",
       "      <th>SD20</th>\n",
       "      <th>Upper_Band</th>\n",
       "      <th>Lower_Band</th>\n",
       "      <th>S_Close(t-1)</th>\n",
       "      <th>S_Close(t-2)</th>\n",
       "      <th>...</th>\n",
       "      <th>QQQ_MA10</th>\n",
       "      <th>QQQ_MA20</th>\n",
       "      <th>QQQ_MA50</th>\n",
       "      <th>SnP_Close</th>\n",
       "      <th>SnP(t-1))</th>\n",
       "      <th>SnP(t-5)</th>\n",
       "      <th>DJIA_Close</th>\n",
       "      <th>DJIA(t-1))</th>\n",
       "      <th>DJIA(t-5)</th>\n",
       "      <th>Close_forcast</th>\n",
       "    </tr>\n",
       "  </thead>\n",
       "  <tbody>\n",
       "    <tr>\n",
       "      <th>0</th>\n",
       "      <td>2005-10-17</td>\n",
       "      <td>6.66</td>\n",
       "      <td>6.69</td>\n",
       "      <td>6.50</td>\n",
       "      <td>154208600</td>\n",
       "      <td>0.169237</td>\n",
       "      <td>6.827473</td>\n",
       "      <td>6.150527</td>\n",
       "      <td>6.67</td>\n",
       "      <td>6.63</td>\n",
       "      <td>...</td>\n",
       "      <td>33.692</td>\n",
       "      <td>33.9970</td>\n",
       "      <td>34.2690</td>\n",
       "      <td>1190.10</td>\n",
       "      <td>1186.57</td>\n",
       "      <td>1187.33</td>\n",
       "      <td>10348.10</td>\n",
       "      <td>10287.34</td>\n",
       "      <td>10238.76</td>\n",
       "      <td>6.45</td>\n",
       "    </tr>\n",
       "    <tr>\n",
       "      <th>1</th>\n",
       "      <td>2005-10-18</td>\n",
       "      <td>6.57</td>\n",
       "      <td>6.66</td>\n",
       "      <td>6.44</td>\n",
       "      <td>152397000</td>\n",
       "      <td>0.168339</td>\n",
       "      <td>6.819677</td>\n",
       "      <td>6.146323</td>\n",
       "      <td>6.60</td>\n",
       "      <td>6.67</td>\n",
       "      <td>...</td>\n",
       "      <td>33.570</td>\n",
       "      <td>33.9525</td>\n",
       "      <td>34.2466</td>\n",
       "      <td>1178.14</td>\n",
       "      <td>1190.10</td>\n",
       "      <td>1184.87</td>\n",
       "      <td>10285.26</td>\n",
       "      <td>10348.10</td>\n",
       "      <td>10253.17</td>\n",
       "      <td>6.78</td>\n",
       "    </tr>\n",
       "    <tr>\n",
       "      <th>2</th>\n",
       "      <td>2005-10-19</td>\n",
       "      <td>6.43</td>\n",
       "      <td>6.78</td>\n",
       "      <td>6.32</td>\n",
       "      <td>252170800</td>\n",
       "      <td>0.180306</td>\n",
       "      <td>6.861112</td>\n",
       "      <td>6.139888</td>\n",
       "      <td>6.45</td>\n",
       "      <td>6.60</td>\n",
       "      <td>...</td>\n",
       "      <td>33.562</td>\n",
       "      <td>33.9600</td>\n",
       "      <td>34.2330</td>\n",
       "      <td>1195.76</td>\n",
       "      <td>1178.14</td>\n",
       "      <td>1177.68</td>\n",
       "      <td>10414.13</td>\n",
       "      <td>10285.26</td>\n",
       "      <td>10216.91</td>\n",
       "      <td>6.93</td>\n",
       "    </tr>\n",
       "    <tr>\n",
       "      <th>3</th>\n",
       "      <td>2005-10-20</td>\n",
       "      <td>6.72</td>\n",
       "      <td>6.97</td>\n",
       "      <td>6.71</td>\n",
       "      <td>339440500</td>\n",
       "      <td>0.202674</td>\n",
       "      <td>6.931847</td>\n",
       "      <td>6.121153</td>\n",
       "      <td>6.78</td>\n",
       "      <td>6.45</td>\n",
       "      <td>...</td>\n",
       "      <td>33.567</td>\n",
       "      <td>33.9455</td>\n",
       "      <td>34.2190</td>\n",
       "      <td>1177.80</td>\n",
       "      <td>1195.76</td>\n",
       "      <td>1176.84</td>\n",
       "      <td>10281.10</td>\n",
       "      <td>10414.13</td>\n",
       "      <td>10216.59</td>\n",
       "      <td>6.87</td>\n",
       "    </tr>\n",
       "    <tr>\n",
       "      <th>4</th>\n",
       "      <td>2005-10-21</td>\n",
       "      <td>7.02</td>\n",
       "      <td>7.03</td>\n",
       "      <td>6.83</td>\n",
       "      <td>199181500</td>\n",
       "      <td>0.216680</td>\n",
       "      <td>6.974860</td>\n",
       "      <td>6.108140</td>\n",
       "      <td>6.93</td>\n",
       "      <td>6.78</td>\n",
       "      <td>...</td>\n",
       "      <td>33.586</td>\n",
       "      <td>33.9365</td>\n",
       "      <td>34.2034</td>\n",
       "      <td>1179.59</td>\n",
       "      <td>1177.80</td>\n",
       "      <td>1186.57</td>\n",
       "      <td>10215.22</td>\n",
       "      <td>10281.10</td>\n",
       "      <td>10287.34</td>\n",
       "      <td>7.01</td>\n",
       "    </tr>\n",
       "  </tbody>\n",
       "</table>\n",
       "<p>5 rows × 63 columns</p>\n",
       "</div>"
      ],
      "text/plain": [
       "         Date  Open  High   Low     Volume      SD20  Upper_Band  Lower_Band  \\\n",
       "0  2005-10-17  6.66  6.69  6.50  154208600  0.169237    6.827473    6.150527   \n",
       "1  2005-10-18  6.57  6.66  6.44  152397000  0.168339    6.819677    6.146323   \n",
       "2  2005-10-19  6.43  6.78  6.32  252170800  0.180306    6.861112    6.139888   \n",
       "3  2005-10-20  6.72  6.97  6.71  339440500  0.202674    6.931847    6.121153   \n",
       "4  2005-10-21  7.02  7.03  6.83  199181500  0.216680    6.974860    6.108140   \n",
       "\n",
       "   S_Close(t-1)  S_Close(t-2)  ...  QQQ_MA10  QQQ_MA20  QQQ_MA50  SnP_Close  \\\n",
       "0          6.67          6.63  ...    33.692   33.9970   34.2690    1190.10   \n",
       "1          6.60          6.67  ...    33.570   33.9525   34.2466    1178.14   \n",
       "2          6.45          6.60  ...    33.562   33.9600   34.2330    1195.76   \n",
       "3          6.78          6.45  ...    33.567   33.9455   34.2190    1177.80   \n",
       "4          6.93          6.78  ...    33.586   33.9365   34.2034    1179.59   \n",
       "\n",
       "   SnP(t-1))  SnP(t-5)  DJIA_Close  DJIA(t-1))  DJIA(t-5)  Close_forcast  \n",
       "0    1186.57   1187.33    10348.10    10287.34   10238.76           6.45  \n",
       "1    1190.10   1184.87    10285.26    10348.10   10253.17           6.78  \n",
       "2    1178.14   1177.68    10414.13    10285.26   10216.91           6.93  \n",
       "3    1195.76   1176.84    10281.10    10414.13   10216.59           6.87  \n",
       "4    1177.80   1186.57    10215.22    10281.10   10287.34           7.01  \n",
       "\n",
       "[5 rows x 63 columns]"
      ]
     },
     "execution_count": 53,
     "metadata": {},
     "output_type": "execute_result"
    }
   ],
   "source": [
    "df=pd.read_csv(\"AAPL.csv\")\n",
    "df.head()\n",
    "label=df.pop('Close(t)')\n",
    "feature=df\n",
    "df.head()"
   ]
  },
  {
   "cell_type": "code",
   "execution_count": 54,
   "metadata": {},
   "outputs": [],
   "source": [
    "feature=feature.drop(['Date','Date_col', 'Day', 'DayofWeek', 'DayofYear', 'Week',\n",
    "       'Is_month_end', 'Is_month_start', 'Is_quarter_end', 'Is_quarter_start',\n",
    "       'Is_year_end', 'Is_year_start', 'Is_leap_year', 'Year', 'Month'],axis=1)\n",
    "feature = (feature - feature.mean(axis=0)) / feature.std(axis=0)"
   ]
  },
  {
   "cell_type": "code",
   "execution_count": 55,
   "metadata": {},
   "outputs": [],
   "source": [
    "alpha=0.01\n",
    "weight=np.zeros(feature.shape[1])\n",
    "bias=0\n",
    "iteration=1000\n"
   ]
  },
  {
   "cell_type": "code",
   "execution_count": 56,
   "metadata": {},
   "outputs": [],
   "source": [
    "for i in range(iteration):\n",
    "    y_pre=np.dot(feature,weight)+bias\n",
    "    error=y_pre-label\n",
    "    weight=weight-alpha*((np.dot(feature.T,error))/feature.shape[0])\n",
    "    bias = bias - alpha * np.mean(error)\n",
    "    "
   ]
  },
  {
   "cell_type": "code",
   "execution_count": 57,
   "metadata": {},
   "outputs": [
    {
     "name": "stdout",
     "output_type": "stream",
     "text": [
      "83.97486979980854\n"
     ]
    },
    {
     "data": {
      "text/plain": [
       "array([ 3.57474727,  3.60660965,  3.65317901, -0.2141905 ,  0.45945469,\n",
       "        3.14140586,  3.51216499,  3.51582155,  3.32179418,  3.19385328,\n",
       "        3.09839898,  3.45767574,  3.38343064,  3.23093964,  3.31842916,\n",
       "        3.29841445,  2.29998794,  3.44274674,  3.44274674,  3.44274674,\n",
       "        3.44274674,  3.44274674,  1.87638337,  0.85054106,  2.08350487,\n",
       "       -0.04742403,  3.29303567, -0.09281975, -0.70388024,  0.52376365,\n",
       "        0.52376365, -0.05683926,  1.06455627,  0.4837908 ,  1.20657201,\n",
       "        1.08333417,  0.9789551 ,  0.86361085,  0.95082104,  1.03047712,\n",
       "        1.05870759, -0.31239044, -0.41245673, -0.64679899, -0.07122246,\n",
       "       -0.17240936, -0.40582031,  3.64655863])"
      ]
     },
     "execution_count": 57,
     "metadata": {},
     "output_type": "execute_result"
    }
   ],
   "source": [
    "print(bias)\n",
    "y_pre=np.dot(feature,weight)+bias\n",
    "weight"
   ]
  },
  {
   "cell_type": "code",
   "execution_count": 60,
   "metadata": {},
   "outputs": [
    {
     "name": "stdout",
     "output_type": "stream",
     "text": [
      "99.86%\n"
     ]
    }
   ],
   "source": [
    "y_pred = np.dot(feature, weight) + bias\n",
    "SS_res = np.sum((label - y_pred) ** 2)\n",
    "SS_tot = np.sum((label - np.mean(label)) ** 2)\n",
    "R_squared = 1 - (SS_res / SS_tot)\n",
    "print(f\"{R_squared*100:.2f}%\")"
   ]
  }
 ],
 "metadata": {
  "kernelspec": {
   "display_name": "Python 3",
   "language": "python",
   "name": "python3"
  },
  "language_info": {
   "codemirror_mode": {
    "name": "ipython",
    "version": 3
   },
   "file_extension": ".py",
   "mimetype": "text/x-python",
   "name": "python",
   "nbconvert_exporter": "python",
   "pygments_lexer": "ipython3",
   "version": "3.10.9"
  },
  "orig_nbformat": 4
 },
 "nbformat": 4,
 "nbformat_minor": 2
}
